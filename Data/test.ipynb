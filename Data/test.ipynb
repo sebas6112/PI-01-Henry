{
 "cells": [
  {
   "cell_type": "code",
   "execution_count": 327,
   "metadata": {},
   "outputs": [],
   "source": [
    "import pandas as pd\n",
    "import os"
   ]
  },
  {
   "cell_type": "code",
   "execution_count": 328,
   "metadata": {},
   "outputs": [],
   "source": [
    "drivers = pd.read_json('PI01_DATA03\\Datasets\\drivers.json',lines = True)\n",
    "constructors = pd.read_json('PI01_DATA03\\Datasets\\constructors.json',lines = True)\n",
    "circuits = pd.read_csv('PI01_DATA03\\Datasets\\circuits.csv')\n",
    "races = pd.read_csv('PI01_DATA03/Datasets/races.csv')\n",
    "qualifying = pd.concat([pd.read_json('PI01_DATA03\\Datasets\\Qualifying\\qualifying_split_1.json'),\n",
    "                        pd.read_json('PI01_DATA03\\Datasets\\Qualifying\\qualifying_split_2.json')], ignore_index=True)\n",
    "results = pd.read_json('PI01_DATA03/Datasets/results.json',lines = True)\n",
    "pitStops = pd.read_json('PI01_DATA03\\Datasets\\pit_stops.json')\n",
    "encabezadoLapTimes = ['raceId','driverId','lap','position','time','miliseconds']\n",
    "lapTimes = pd.concat([pd.read_csv('PI01_DATA03\\Datasets\\lap_times\\lap_times_split_1.csv', names = encabezadoLapTimes),\n",
    "                      pd.read_csv('PI01_DATA03\\Datasets\\lap_times\\lap_times_split_2.csv', names = encabezadoLapTimes),\n",
    "                      pd.read_csv('PI01_DATA03\\Datasets\\lap_times\\lap_times_split_3.csv', names = encabezadoLapTimes),\n",
    "                      pd.read_csv('PI01_DATA03\\Datasets\\lap_times\\lap_times_split_4.csv', names = encabezadoLapTimes),\n",
    "                      pd.read_csv('PI01_DATA03\\Datasets\\lap_times\\lap_times_split_5.csv', names = encabezadoLapTimes)],ignore_index=True)"
   ]
  },
  {
   "cell_type": "code",
   "execution_count": 329,
   "metadata": {},
   "outputs": [],
   "source": [
    "drivers.replace('\\\\N','NaN',inplace=True)\n",
    "races.replace('\\\\N','NaN',inplace=True)\n",
    "qualifying.replace('\\\\N','NaN',inplace=True)\n",
    "results.replace('\\\\N','NaN',inplace=True)\n",
    "\n",
    "nameDrivers = drivers['name']\n",
    "drivers.drop(['name'], axis=1,inplace=True)\n",
    "nameDrivers = pd.json_normalize(nameDrivers)\n",
    "drivers = pd.concat([drivers, nameDrivers], axis=1)\n",
    "drivers = drivers[['driverId','driverRef','number','code','forename','surname','dob','nationality','url']]"
   ]
  },
  {
   "cell_type": "code",
   "execution_count": 326,
   "metadata": {},
   "outputs": [],
   "source": [
    "os.makedirs('NData', exist_ok=True)\n",
    "\n",
    "drivers.to_csv('NData/drivers.csv')\n",
    "constructors.to_csv('NData/constructors.csv')\n",
    "circuits.to_csv('NData/circuits.csv')\n",
    "races.to_csv('NData/races.csv')\n",
    "qualifying.to_csv('NData/qualifying.csv')\n",
    "results.to_csv('NData/results.csv')\n",
    "pitStops.to_csv('NData/pitStops.csv')\n",
    "lapTimes.to_csv('NData/lapTimes.csv')"
   ]
  },
  {
   "cell_type": "code",
   "execution_count": 3,
   "metadata": {},
   "outputs": [],
   "source": [
    "import MySQLdb\n",
    "\n",
    "DB_HOST = 'database-pi-1.ccnz3ucpvxy8.us-east-1.rds.amazonaws.com' \n",
    "DB_USER = 'admin' \n",
    "DB_PASS = 'cXeU5U5aEwTiwZYYH4QL' \n",
    "DB_NAME = 'pi-01' \n",
    "\n",
    "def run_query(query = ''): \n",
    "\n",
    "    datos = [DB_HOST, DB_USER, DB_PASS, DB_NAME] \n",
    "    conn = MySQLdb.connect(*datos)                  # Conectar a la base de datos \n",
    "    cursor = conn.cursor()                          # Crear un cursor \n",
    "    cursor.execute(query)                           # Ejecutar una consulta \n",
    "\n",
    "    if query.upper().startswith('SELECT'): \n",
    "        data = cursor.fetchall()                    # Traer los resultados de un select \n",
    "    else: \n",
    "        conn.commit()                               # Hacer efectiva la escritura de datos \n",
    "        data = None \n",
    "    \n",
    "    cursor.close()                                  # Cerrar el cursor \n",
    "    conn.close()                                    # Cerrar la conexión \n",
    "\n",
    "    return data"
   ]
  },
  {
   "cell_type": "code",
   "execution_count": 10,
   "metadata": {},
   "outputs": [
    {
     "data": {
      "text/plain": [
       "'2021'"
      ]
     },
     "execution_count": 10,
     "metadata": {},
     "output_type": "execute_result"
    }
   ],
   "source": [
    "q1 = '((2021,),)'\n",
    "q1 = q1.replace(',','')\n",
    "q1 = q1.replace('(','')\n",
    "q1 = q1.replace(')','')\n",
    "q1"
   ]
  }
 ],
 "metadata": {
  "kernelspec": {
   "display_name": "Python 3.9.5 64-bit (system)",
   "language": "python",
   "name": "python3"
  },
  "language_info": {
   "codemirror_mode": {
    "name": "ipython",
    "version": 3
   },
   "file_extension": ".py",
   "mimetype": "text/x-python",
   "name": "python",
   "nbconvert_exporter": "python",
   "pygments_lexer": "ipython3",
   "version": "3.9.5"
  },
  "orig_nbformat": 4,
  "vscode": {
   "interpreter": {
    "hash": "f3586300865ebf2d48e54bcb0d406d16bc7b02fd99e80162a829bd9d38d83bf3"
   }
  }
 },
 "nbformat": 4,
 "nbformat_minor": 2
}
